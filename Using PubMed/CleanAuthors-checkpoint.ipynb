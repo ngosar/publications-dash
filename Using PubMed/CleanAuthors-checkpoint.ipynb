{
 "cells": [
  {
   "cell_type": "code",
   "execution_count": 1,
   "id": "abdede4b",
   "metadata": {},
   "outputs": [
    {
     "name": "stdout",
     "output_type": "stream",
     "text": [
      "                                                Authors\n",
      "0                 Adler-Milstein J, Chen J, Dhaliwal G.\n",
      "1     Bongiovanni T, Shamasunder S, Brown W 3rd, Riv...\n",
      "2     Khoong EC, Sharma AE, Gupta K, Adler-Milstein ...\n",
      "3       Huilgol YS, Adler-Milstein J, Ivey SL, Hong JC.\n",
      "4                   Khairat S, Zou B, Adler-Milstein J.\n",
      "...                                                 ...\n",
      "2167  Zeki Al Hazzouri A, Elfassy T, Carnethon MR, L...\n",
      "2168  Sewell JL, Boscardin CK, Young JQ, Ten Cate O,...\n",
      "2169  Deckers K, Camerino I, van Boxtel MPJ, Verhey ...\n",
      "2170  Ahalt C, Sudore R, Bolano M, Metzger L, Darby ...\n",
      "2171        Spar MJ, Nicosia FM, Steinman MA, Brown RT.\n",
      "\n",
      "[2172 rows x 1 columns]\n"
     ]
    }
   ],
   "source": [
    "import pandas as pd\n",
    "\n",
    "df = pd.read_csv (r'C:\\Users\\ngosar\\OneDrive - University of California, San Francisco\\Desktop\\authors.csv')\n",
    "print (df)"
   ]
  },
  {
   "cell_type": "code",
   "execution_count": 2,
   "id": "34c096a7",
   "metadata": {},
   "outputs": [],
   "source": [
    "d2 = df['Authors'].str.split(',', expand=True)"
   ]
  },
  {
   "cell_type": "code",
   "execution_count": 3,
   "id": "97f41a4a",
   "metadata": {},
   "outputs": [
    {
     "name": "stdout",
     "output_type": "stream",
     "text": [
      "                     0                  1                   2    \\\n",
      "0       Adler-Milstein J             Chen J         Dhaliwal G.   \n",
      "1          Bongiovanni T      Shamasunder S         Brown W 3rd   \n",
      "2              Khoong EC          Sharma AE             Gupta K   \n",
      "3             Huilgol YS   Adler-Milstein J             Ivey SL   \n",
      "4              Khairat S              Zou B   Adler-Milstein J.   \n",
      "...                  ...                ...                 ...   \n",
      "2167  Zeki Al Hazzouri A          Elfassy T        Carnethon MR   \n",
      "2168           Sewell JL       Boscardin CK            Young JQ   \n",
      "2169           Deckers K         Camerino I      van Boxtel MPJ   \n",
      "2170             Ahalt C           Sudore R            Bolano M   \n",
      "2171             Spar MJ         Nicosia FM         Steinman MA   \n",
      "\n",
      "                      3                4             5              6    \\\n",
      "0                    None             None          None           None   \n",
      "1      Rivera Carpenter C        Pantell M       Ghali B   Harrison JD.   \n",
      "2        Adler-Milstein J        Sarkar U.          None           None   \n",
      "3                Hong JC.             None          None           None   \n",
      "4                    None             None          None           None   \n",
      "...                   ...              ...           ...            ...   \n",
      "2167       Lloyd-Jones DM         Yaffe K.          None           None   \n",
      "2168           Ten Cate O   O'Sullivan PS.          None           None   \n",
      "2169           Verhey FRJ         Irving K      Brayne C    Kivipelto M   \n",
      "2170            Metzger L         Darby AM   Williams B.           None   \n",
      "2171            Brown RT.             None          None           None   \n",
      "\n",
      "            7         8             9    ...   92    93    94    95    96   \\\n",
      "0          None      None          None  ...  None  None  None  None  None   \n",
      "1          None      None          None  ...  None  None  None  None  None   \n",
      "2          None      None          None  ...  None  None  None  None  None   \n",
      "3          None      None          None  ...  None  None  None  None  None   \n",
      "4          None      None          None  ...  None  None  None  None  None   \n",
      "...         ...       ...           ...  ...   ...   ...   ...   ...   ...   \n",
      "2167       None      None          None  ...  None  None  None  None  None   \n",
      "2168       None      None          None  ...  None  None  None  None  None   \n",
      "2169   Starr JM   Yaffe K   de Leeuw PW  ...  None  None  None  None  None   \n",
      "2170       None      None          None  ...  None  None  None  None  None   \n",
      "2171       None      None          None  ...  None  None  None  None  None   \n",
      "\n",
      "       97    98    99    100   101  \n",
      "0     None  None  None  None  None  \n",
      "1     None  None  None  None  None  \n",
      "2     None  None  None  None  None  \n",
      "3     None  None  None  None  None  \n",
      "4     None  None  None  None  None  \n",
      "...    ...   ...   ...   ...   ...  \n",
      "2167  None  None  None  None  None  \n",
      "2168  None  None  None  None  None  \n",
      "2169  None  None  None  None  None  \n",
      "2170  None  None  None  None  None  \n",
      "2171  None  None  None  None  None  \n",
      "\n",
      "[2172 rows x 102 columns]\n"
     ]
    }
   ],
   "source": [
    "print (d2)"
   ]
  },
  {
   "cell_type": "code",
   "execution_count": 4,
   "id": "d31b6f65",
   "metadata": {},
   "outputs": [],
   "source": [
    "d2.to_csv('C:/Users/ngosar/OneDrive - University of California, San Francisco/Desktop/authors_cleaned.csv')"
   ]
  },
  {
   "cell_type": "code",
   "execution_count": null,
   "id": "f0fb729a",
   "metadata": {
    "scrolled": false
   },
   "outputs": [],
   "source": [
    "\n"
   ]
  },
  {
   "cell_type": "code",
   "execution_count": null,
   "id": "1bfe39d8",
   "metadata": {},
   "outputs": [],
   "source": []
  },
  {
   "cell_type": "code",
   "execution_count": null,
   "id": "482e9823",
   "metadata": {},
   "outputs": [],
   "source": []
  }
 ],
 "metadata": {
  "kernelspec": {
   "display_name": "Python 3 (ipykernel)",
   "language": "python",
   "name": "python3"
  },
  "language_info": {
   "codemirror_mode": {
    "name": "ipython",
    "version": 3
   },
   "file_extension": ".py",
   "mimetype": "text/x-python",
   "name": "python",
   "nbconvert_exporter": "python",
   "pygments_lexer": "ipython3",
   "version": "3.9.12"
  }
 },
 "nbformat": 4,
 "nbformat_minor": 5
}
