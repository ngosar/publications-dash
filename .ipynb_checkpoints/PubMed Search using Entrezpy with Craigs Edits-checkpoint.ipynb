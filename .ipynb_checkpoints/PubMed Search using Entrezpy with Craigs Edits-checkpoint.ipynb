{
 "cells": [
  {
   "cell_type": "markdown",
   "metadata": {},
   "source": [
    "# PubMed Dashboarding to Identify Research Trends with EntrezPy, Plotly, Dash"
   ]
  },
  {
   "cell_type": "markdown",
   "metadata": {},
   "source": [
    "Goal is to pull all publications by a search query, and visualize its NIH compliance, the journals it appears in, and research trends. "
   ]
  },
  {
   "cell_type": "code",
   "execution_count": 1,
   "metadata": {},
   "outputs": [
    {
     "name": "stdout",
     "output_type": "stream",
     "text": [
      "Collecting Biopython\n",
      "  Downloading biopython-1.78-cp36-cp36m-macosx_10_9_x86_64.whl (2.2 MB)\n",
      "\u001b[K     |████████████████████████████████| 2.2 MB 2.2 MB/s eta 0:00:01\n",
      "\u001b[?25hRequirement already satisfied: numpy in /Users/Craig_Sakuma/anaconda3/anaconda/lib/python3.6/site-packages (from Biopython) (1.19.2)\n",
      "Installing collected packages: Biopython\n",
      "Successfully installed Biopython-1.78\n"
     ]
    }
   ],
   "source": [
    "!pip install Biopython"
   ]
  },
  {
   "cell_type": "code",
   "execution_count": 2,
   "metadata": {},
   "outputs": [],
   "source": [
    "from Bio import Entrez #use this library to access PubMed database and its Medline records\n",
    "import pandas as pd #to export PMID's or PubMed Queries as needed\n",
    "from pandas import DataFrame\n",
    "import plotly.express as px\n",
    "\n",
    "from jupyter_dash import JupyterDash #use plotly + Dash for building dashboard instead of using default\n",
    "import dash\n",
    "import dash_core_components as dcc\n",
    "import dash_html_components as html\n"
   ]
  },
  {
   "cell_type": "code",
   "execution_count": 3,
   "metadata": {},
   "outputs": [],
   "source": [
    "#to let NLM know who I am\n",
    "Entrez.email = \"sarah.ngo@ucsf.edu\" "
   ]
  },
  {
   "cell_type": "code",
   "execution_count": 4,
   "metadata": {},
   "outputs": [],
   "source": [
    "#the following formulas are for setting up the dataframe by searching Entrzpy to retrieve the Medline records according to a search query\n",
    "\n",
    "#this is to return all the PMIDs corresponding to a search term\n",
    "def get_term_pmids(term):\n",
    "    links = Entrez.esearch(db=\"pubmed\", retmax = 10000, term=term)\n",
    "    record = Entrez.read(links)\n",
    "    link_list = record['IdList']\n",
    "    return link_list\n",
    "\n",
    "#this is to check medline record for PMID that the medline records correspond to\n",
    "def get_medline(pubmed_list):\n",
    "    handle = Entrez.efetch(db='pubmed',id=pubmed_list, retmode='text', rettype='medline')\n",
    "    return handle.read()\n",
    "\n",
    "#this returns all the mesh terms of a set of PMID list\n",
    "def get_mesh_terms(link_list):\n",
    "    record = Entrez.efetch(db=\"pubmed\", retmax = 10000, term=term)\n",
    "\n",
    "\n",
    "\n",
    "\n",
    "\n",
    "\n",
    "\n",
    "    \n",
    "    \n",
    "    \n",
    "    "
   ]
  },
  {
   "cell_type": "code",
   "execution_count": 4,
   "metadata": {},
   "outputs": [
    {
     "name": "stdout",
     "output_type": "stream",
     "text": [
      "what do you want to search for?((Kotwal A San Francisco AND (2020:2021[pdat])) AND (Kotwal A San Francisco)) AND (Ashwin Kotwal AND (2020:2021[pdat]))\n"
     ]
    }
   ],
   "source": [
    "#prompt input for search search, and retrieve results\n",
    "query = input(\"what do you want to search for?\")\n"
   ]
  },
  {
   "cell_type": "code",
   "execution_count": 5,
   "metadata": {},
   "outputs": [
    {
     "data": {
      "text/plain": [
       "['33099456', '33048142', '32965024', '32865472', '32803486', '32422084', '32359072', '32356919', '31775021']"
      ]
     },
     "execution_count": 5,
     "metadata": {},
     "output_type": "execute_result"
    }
   ],
   "source": [
    "pmids_list = get_term_pmids(query)\n",
    "pmids_list"
   ]
  },
  {
   "cell_type": "code",
   "execution_count": 5,
   "metadata": {},
   "outputs": [],
   "source": [
    "\n",
    "#this is to format the text blob. retrieve medline record and split record by line break so it will not be one big text blob\n",
    "pmids_list = ['33099456']\n",
    "pmid= get_medline(pmids_list).split('\\n')\n",
    "\n",
    "pubmed_list = []\n",
    "for element in pmid:\n",
    "    new_string = element.split('- ')\n",
    "    pubmed_list.append(new_string)\n",
    "    #print(new_string) #print to see that it retrieves the right records, and see if it formatted correctly\n",
    "\n"
   ]
  },
  {
   "cell_type": "code",
   "execution_count": 6,
   "metadata": {},
   "outputs": [
    {
     "data": {
      "text/plain": [
       "[[''],\n",
       " ['PMID', '33099456'],\n",
       " ['OWN ', 'NLM'],\n",
       " ['STAT', 'MEDLINE'],\n",
       " ['DCOM', '20201030'],\n",
       " ['LR  ', '20201030'],\n",
       " ['IS  ', '1557-9859 (Electronic)'],\n",
       " ['IS  ', '0025-7125 (Linking)'],\n",
       " ['VI  ', '104'],\n",
       " ['IP  ', '6'],\n",
       " ['DP  ', '2020 Nov'],\n",
       " ['TI  ',\n",
       "  'Cancer Screening in Older Adults: Individualized Decision-Making and'],\n",
       " ['      Communication Strategies.'],\n",
       " ['PG  ', '989-1006'],\n",
       " ['LID ', 'S0025-7125(20)30080-8 [pii]'],\n",
       " ['LID ', '10.1016/j.mcna.2020.08.002 [doi]'],\n",
       " ['AB  ',\n",
       "  'Cancer screening decisions in older adults can be complex due to the unclear'],\n",
       " ['      cancer-specific mortality benefits of screening and several known harms including'],\n",
       " ['      false positives, overdiagnosis, and procedural complications from downstream'],\n",
       " ['      diagnostic interventions. In this review, we provide a framework for'],\n",
       " ['      individualized cancer screening decisions among older adults, involving'],\n",
       " ['      accounting for overall health and life expectancy, individual values, and the'],\n",
       " ['      risks and benefits of specific cancer screening tests. We then discuss strategies'],\n",
       " ['      for effective communication of recommendations during clinical visits that are'],\n",
       " ['      considered more effective, easy to understand, and acceptable by older adults and'],\n",
       " ['      clinicians.'],\n",
       " ['CI  ', 'Copyright (c) 2020 Elsevier Inc. All rights reserved.'],\n",
       " ['FAU ', 'Kotwal, Ashwin A'],\n",
       " ['AU  ', 'Kotwal AA'],\n",
       " ['AD  ',\n",
       "  'Division of Geriatrics, Department of Medicine, University of California, San'],\n",
       " ['      Francisco, San Francisco, CA, USA; Geriatrics, Palliative, and Extended Care'],\n",
       " ['      Service Line, San Francisco Veterans Affairs Medical Center, San Francisco, CA,'],\n",
       " ['      USA. Electronic address: ashwin.kotwal@ucsf.edu.'],\n",
       " ['FAU ', 'Walter, Louise C'],\n",
       " ['AU  ', 'Walter LC'],\n",
       " ['AD  ',\n",
       "  'Division of Geriatrics, Department of Medicine, University of California, San'],\n",
       " ['      Francisco, San Francisco, CA, USA; Geriatrics, Palliative, and Extended Care'],\n",
       " ['      Service Line, San Francisco Veterans Affairs Medical Center, San Francisco, CA,'],\n",
       " ['      USA.'],\n",
       " ['LA  ', 'eng'],\n",
       " ['GR  ', 'R03 AG064323/AG/NIA NIH HHS/United States'],\n",
       " ['PT  ', 'Journal Article'],\n",
       " ['PT  ', 'Review'],\n",
       " ['DEP ', '20200916'],\n",
       " ['PL  ', 'United States'],\n",
       " ['TA  ', 'Med Clin North Am'],\n",
       " ['JT  ', 'The Medical clinics of North America'],\n",
       " ['JID ', '2985236R'],\n",
       " ['SB  ', 'AIM'],\n",
       " ['SB  ', 'IM'],\n",
       " ['MH  ', 'Aged'],\n",
       " ['MH  ', 'Aged, 80 and over'],\n",
       " ['MH  ', 'Communication'],\n",
       " ['MH  ', 'Decision Making'],\n",
       " ['MH  ', '*Early Detection of Cancer'],\n",
       " ['MH  ', '*Health Services for the Aged'],\n",
       " ['MH  ', 'Humans'],\n",
       " ['MH  ', 'United States'],\n",
       " ['PMC ', 'PMC7594102'],\n",
       " ['MID ', 'NIHMS1618860'],\n",
       " ['OTO ', 'NOTNLM'],\n",
       " ['OT  ', 'Cancer screening'],\n",
       " ['OT  ', 'Colon cancer'],\n",
       " ['OT  ', 'Lung cancer'],\n",
       " ['OT  ', 'Mammogram'],\n",
       " ['OT  ', 'Older adults'],\n",
       " ['OT  ', 'PSA test'],\n",
       " ['COIS',\n",
       "  \"Disclosure Dr. Ashwin Kotwal's effort was supported by a GEMSSTAR Award from the \"],\n",
       " ['      National Institute on Aging (R03AG064323), the NIA Claude D. Pepper Older'],\n",
       " ['      Americans Independence Center (P30AG044281), and the National Palliative Care'],\n",
       " [\"      Research Center Kornfield Scholar's Award. Dr. Louise Walter's effort on this\"],\n",
       " ['      project was supported by a K24 Midcareer Mentoring Award for Patient-Oriented'],\n",
       " ['      Research in Aging (K24AG041180) from the National Institute on Aging.'],\n",
       " ['EDAT', '2020/10/26 06:00'],\n",
       " ['MHDA', '2020/10/31 06:00'],\n",
       " ['CRDT', '2020/10/25 20:13'],\n",
       " ['PMCR', '2021/11/01 00:00'],\n",
       " ['PHST', '2021/11/01 00:00 [pmc-release]'],\n",
       " ['PHST', '2020/10/25 20:13 [entrez]'],\n",
       " ['PHST', '2020/10/26 06:00 [pubmed]'],\n",
       " ['PHST', '2020/10/31 06:00 [medline]'],\n",
       " ['AID ', 'S0025-7125(20)30080-8 [pii]'],\n",
       " ['AID ', '10.1016/j.mcna.2020.08.002 [doi]'],\n",
       " ['PST ', 'ppublish'],\n",
       " ['SO  ',\n",
       "  'Med Clin North Am. 2020 Nov;104(6):989-1006. doi: 10.1016/j.mcna.2020.08.002.'],\n",
       " ['      Epub 2020 Sep 16.'],\n",
       " ['']]"
      ]
     },
     "execution_count": 6,
     "metadata": {},
     "output_type": "execute_result"
    }
   ],
   "source": [
    "pubmed_list"
   ]
  },
  {
   "cell_type": "markdown",
   "metadata": {},
   "source": [
    "df= {}\n",
    "\n",
    "def create_df(pubmed_list):\n",
    "    for line_item in pubmed_list:\n",
    "        try:\n",
    "            df[line_item[0]] = line_item[1] \n",
    "        except Exception:\n",
    "            if line_item == ['']:\n",
    "                pass\n",
    "make_df = create_df(pubmed_list)\n",
    "df"
   ]
  },
  {
   "cell_type": "code",
   "execution_count": 7,
   "metadata": {},
   "outputs": [
    {
     "data": {
      "text/html": [
       "<div>\n",
       "<style scoped>\n",
       "    .dataframe tbody tr th:only-of-type {\n",
       "        vertical-align: middle;\n",
       "    }\n",
       "\n",
       "    .dataframe tbody tr th {\n",
       "        vertical-align: top;\n",
       "    }\n",
       "\n",
       "    .dataframe thead th {\n",
       "        text-align: right;\n",
       "    }\n",
       "</style>\n",
       "<table border=\"1\" class=\"dataframe\">\n",
       "  <thead>\n",
       "    <tr style=\"text-align: right;\">\n",
       "      <th></th>\n",
       "      <th>key</th>\n",
       "      <th>value</th>\n",
       "    </tr>\n",
       "  </thead>\n",
       "  <tbody>\n",
       "    <tr>\n",
       "      <th>0</th>\n",
       "      <td></td>\n",
       "      <td>None</td>\n",
       "    </tr>\n",
       "    <tr>\n",
       "      <th>1</th>\n",
       "      <td>PMID</td>\n",
       "      <td>33099456</td>\n",
       "    </tr>\n",
       "    <tr>\n",
       "      <th>2</th>\n",
       "      <td>OWN</td>\n",
       "      <td>NLM</td>\n",
       "    </tr>\n",
       "    <tr>\n",
       "      <th>3</th>\n",
       "      <td>STAT</td>\n",
       "      <td>MEDLINE</td>\n",
       "    </tr>\n",
       "    <tr>\n",
       "      <th>4</th>\n",
       "      <td>DCOM</td>\n",
       "      <td>20201030</td>\n",
       "    </tr>\n",
       "    <tr>\n",
       "      <th>...</th>\n",
       "      <td>...</td>\n",
       "      <td>...</td>\n",
       "    </tr>\n",
       "    <tr>\n",
       "      <th>82</th>\n",
       "      <td>AID</td>\n",
       "      <td>10.1016/j.mcna.2020.08.002 [doi]</td>\n",
       "    </tr>\n",
       "    <tr>\n",
       "      <th>83</th>\n",
       "      <td>PST</td>\n",
       "      <td>ppublish</td>\n",
       "    </tr>\n",
       "    <tr>\n",
       "      <th>84</th>\n",
       "      <td>SO</td>\n",
       "      <td>Med Clin North Am. 2020 Nov;104(6):989-1006. d...</td>\n",
       "    </tr>\n",
       "    <tr>\n",
       "      <th>85</th>\n",
       "      <td>Epub 2020 Sep 16.</td>\n",
       "      <td>None</td>\n",
       "    </tr>\n",
       "    <tr>\n",
       "      <th>86</th>\n",
       "      <td></td>\n",
       "      <td>None</td>\n",
       "    </tr>\n",
       "  </tbody>\n",
       "</table>\n",
       "<p>87 rows × 2 columns</p>\n",
       "</div>"
      ],
      "text/plain": [
       "                        key                                              value\n",
       "0                                                                         None\n",
       "1                      PMID                                           33099456\n",
       "2                      OWN                                                 NLM\n",
       "3                      STAT                                            MEDLINE\n",
       "4                      DCOM                                           20201030\n",
       "..                      ...                                                ...\n",
       "82                     AID                    10.1016/j.mcna.2020.08.002 [doi]\n",
       "83                     PST                                            ppublish\n",
       "84                     SO    Med Clin North Am. 2020 Nov;104(6):989-1006. d...\n",
       "85        Epub 2020 Sep 16.                                               None\n",
       "86                                                                        None\n",
       "\n",
       "[87 rows x 2 columns]"
      ]
     },
     "execution_count": 7,
     "metadata": {},
     "output_type": "execute_result"
    }
   ],
   "source": [
    "df = DataFrame(pubmed_list, columns=['key', 'value'])\n",
    "df"
   ]
  },
  {
   "cell_type": "code",
   "execution_count": 8,
   "metadata": {},
   "outputs": [
    {
     "data": {
      "text/html": [
       "<div>\n",
       "<style scoped>\n",
       "    .dataframe tbody tr th:only-of-type {\n",
       "        vertical-align: middle;\n",
       "    }\n",
       "\n",
       "    .dataframe tbody tr th {\n",
       "        vertical-align: top;\n",
       "    }\n",
       "\n",
       "    .dataframe thead th {\n",
       "        text-align: right;\n",
       "    }\n",
       "</style>\n",
       "<table border=\"1\" class=\"dataframe\">\n",
       "  <thead>\n",
       "    <tr style=\"text-align: right;\">\n",
       "      <th></th>\n",
       "      <th>key</th>\n",
       "      <th>value</th>\n",
       "    </tr>\n",
       "  </thead>\n",
       "  <tbody>\n",
       "    <tr>\n",
       "      <th>0</th>\n",
       "      <td></td>\n",
       "      <td>None</td>\n",
       "    </tr>\n",
       "    <tr>\n",
       "      <th>1</th>\n",
       "      <td>PMID</td>\n",
       "      <td>33099456</td>\n",
       "    </tr>\n",
       "    <tr>\n",
       "      <th>2</th>\n",
       "      <td>OWN</td>\n",
       "      <td>NLM</td>\n",
       "    </tr>\n",
       "    <tr>\n",
       "      <th>3</th>\n",
       "      <td>STAT</td>\n",
       "      <td>MEDLINE</td>\n",
       "    </tr>\n",
       "    <tr>\n",
       "      <th>4</th>\n",
       "      <td>DCOM</td>\n",
       "      <td>20201030</td>\n",
       "    </tr>\n",
       "  </tbody>\n",
       "</table>\n",
       "</div>"
      ],
      "text/plain": [
       "    key     value\n",
       "0            None\n",
       "1  PMID  33099456\n",
       "2   OWN       NLM\n",
       "3  STAT   MEDLINE\n",
       "4  DCOM  20201030"
      ]
     },
     "execution_count": 8,
     "metadata": {},
     "output_type": "execute_result"
    }
   ],
   "source": [
    "df.key = df.key.apply(str.strip)\n",
    "df.head()"
   ]
  },
  {
   "cell_type": "code",
   "execution_count": 9,
   "metadata": {},
   "outputs": [],
   "source": [
    "df.dropna(inplace=True)"
   ]
  },
  {
   "cell_type": "code",
   "execution_count": 10,
   "metadata": {},
   "outputs": [],
   "source": [
    "df['PMID'] = 33099456"
   ]
  },
  {
   "cell_type": "code",
   "execution_count": 11,
   "metadata": {},
   "outputs": [
    {
     "data": {
      "text/html": [
       "<div>\n",
       "<style scoped>\n",
       "    .dataframe tbody tr th:only-of-type {\n",
       "        vertical-align: middle;\n",
       "    }\n",
       "\n",
       "    .dataframe tbody tr th {\n",
       "        vertical-align: top;\n",
       "    }\n",
       "\n",
       "    .dataframe thead th {\n",
       "        text-align: right;\n",
       "    }\n",
       "</style>\n",
       "<table border=\"1\" class=\"dataframe\">\n",
       "  <thead>\n",
       "    <tr style=\"text-align: right;\">\n",
       "      <th></th>\n",
       "      <th>key</th>\n",
       "      <th>value</th>\n",
       "      <th>PMID</th>\n",
       "    </tr>\n",
       "  </thead>\n",
       "  <tbody>\n",
       "    <tr>\n",
       "      <th>1</th>\n",
       "      <td>PMID</td>\n",
       "      <td>33099456</td>\n",
       "      <td>33099456</td>\n",
       "    </tr>\n",
       "    <tr>\n",
       "      <th>2</th>\n",
       "      <td>OWN</td>\n",
       "      <td>NLM</td>\n",
       "      <td>33099456</td>\n",
       "    </tr>\n",
       "    <tr>\n",
       "      <th>3</th>\n",
       "      <td>STAT</td>\n",
       "      <td>MEDLINE</td>\n",
       "      <td>33099456</td>\n",
       "    </tr>\n",
       "    <tr>\n",
       "      <th>4</th>\n",
       "      <td>DCOM</td>\n",
       "      <td>20201030</td>\n",
       "      <td>33099456</td>\n",
       "    </tr>\n",
       "    <tr>\n",
       "      <th>5</th>\n",
       "      <td>LR</td>\n",
       "      <td>20201030</td>\n",
       "      <td>33099456</td>\n",
       "    </tr>\n",
       "  </tbody>\n",
       "</table>\n",
       "</div>"
      ],
      "text/plain": [
       "    key     value      PMID\n",
       "1  PMID  33099456  33099456\n",
       "2   OWN       NLM  33099456\n",
       "3  STAT   MEDLINE  33099456\n",
       "4  DCOM  20201030  33099456\n",
       "5    LR  20201030  33099456"
      ]
     },
     "execution_count": 11,
     "metadata": {},
     "output_type": "execute_result"
    }
   ],
   "source": [
    "df.head()\n",
    "# pd.concat\n",
    "# reset_index"
   ]
  },
  {
   "cell_type": "code",
   "execution_count": 15,
   "metadata": {},
   "outputs": [
    {
     "data": {
      "text/html": [
       "<div>\n",
       "<style scoped>\n",
       "    .dataframe tbody tr th:only-of-type {\n",
       "        vertical-align: middle;\n",
       "    }\n",
       "\n",
       "    .dataframe tbody tr th {\n",
       "        vertical-align: top;\n",
       "    }\n",
       "\n",
       "    .dataframe thead th {\n",
       "        text-align: right;\n",
       "    }\n",
       "</style>\n",
       "<table border=\"1\" class=\"dataframe\">\n",
       "  <thead>\n",
       "    <tr style=\"text-align: right;\">\n",
       "      <th></th>\n",
       "      <th>0</th>\n",
       "      <th>1</th>\n",
       "      <th>2</th>\n",
       "      <th>3</th>\n",
       "      <th>4</th>\n",
       "      <th>5</th>\n",
       "      <th>6</th>\n",
       "      <th>7</th>\n",
       "      <th>8</th>\n",
       "      <th>9</th>\n",
       "      <th>...</th>\n",
       "      <th>824</th>\n",
       "      <th>825</th>\n",
       "      <th>826</th>\n",
       "      <th>827</th>\n",
       "      <th>828</th>\n",
       "      <th>829</th>\n",
       "      <th>830</th>\n",
       "      <th>831</th>\n",
       "      <th>832</th>\n",
       "      <th>833</th>\n",
       "    </tr>\n",
       "  </thead>\n",
       "  <tbody>\n",
       "    <tr>\n",
       "      <th>key</th>\n",
       "      <td></td>\n",
       "      <td>PMID</td>\n",
       "      <td>OWN</td>\n",
       "      <td>STAT</td>\n",
       "      <td>DCOM</td>\n",
       "      <td>LR</td>\n",
       "      <td>IS</td>\n",
       "      <td>IS</td>\n",
       "      <td>VI</td>\n",
       "      <td>IP</td>\n",
       "      <td>...</td>\n",
       "      <td>PHST</td>\n",
       "      <td>PHST</td>\n",
       "      <td>PHST</td>\n",
       "      <td>PHST</td>\n",
       "      <td>AID</td>\n",
       "      <td>AID</td>\n",
       "      <td>PST</td>\n",
       "      <td>SO</td>\n",
       "      <td>10.1016/j.jpainsymman.2019.11.014. Epub ...</td>\n",
       "      <td></td>\n",
       "    </tr>\n",
       "    <tr>\n",
       "      <th>value</th>\n",
       "      <td>None</td>\n",
       "      <td>33099456</td>\n",
       "      <td>NLM</td>\n",
       "      <td>MEDLINE</td>\n",
       "      <td>20201030</td>\n",
       "      <td>20201030</td>\n",
       "      <td>1557-9859 (Electronic)</td>\n",
       "      <td>0025-7125 (Linking)</td>\n",
       "      <td>104</td>\n",
       "      <td>6</td>\n",
       "      <td>...</td>\n",
       "      <td>2019/11/13 00:00 [accepted]</td>\n",
       "      <td>2019/11/28 06:00 [pubmed]</td>\n",
       "      <td>2019/11/28 06:00 [medline]</td>\n",
       "      <td>2019/11/28 06:00 [entrez]</td>\n",
       "      <td>S0885-3924(19)30669-4 [pii]</td>\n",
       "      <td>10.1016/j.jpainsymman.2019.11.014 [doi]</td>\n",
       "      <td>ppublish</td>\n",
       "      <td>J Pain Symptom Manage. 2020 Apr;59(4):916-931....</td>\n",
       "      <td>None</td>\n",
       "      <td>None</td>\n",
       "    </tr>\n",
       "  </tbody>\n",
       "</table>\n",
       "<p>2 rows × 834 columns</p>\n",
       "</div>"
      ],
      "text/plain": [
       "        0         1     2        3         4         5    \\\n",
       "key              PMID  OWN      STAT      DCOM      LR     \n",
       "value  None  33099456   NLM  MEDLINE  20201030  20201030   \n",
       "\n",
       "                          6                    7     8     9    ...  \\\n",
       "key                      IS                   IS    VI    IP    ...   \n",
       "value  1557-9859 (Electronic)  0025-7125 (Linking)   104     6  ...   \n",
       "\n",
       "                               824                        825  \\\n",
       "key                           PHST                       PHST   \n",
       "value  2019/11/13 00:00 [accepted]  2019/11/28 06:00 [pubmed]   \n",
       "\n",
       "                              826                        827  \\\n",
       "key                          PHST                       PHST   \n",
       "value  2019/11/28 06:00 [medline]  2019/11/28 06:00 [entrez]   \n",
       "\n",
       "                               828                                      829  \\\n",
       "key                           AID                                      AID    \n",
       "value  S0885-3924(19)30669-4 [pii]  10.1016/j.jpainsymman.2019.11.014 [doi]   \n",
       "\n",
       "            830                                                831  \\\n",
       "key        PST                                                SO     \n",
       "value  ppublish  J Pain Symptom Manage. 2020 Apr;59(4):916-931....   \n",
       "\n",
       "                                                     832   833  \n",
       "key          10.1016/j.jpainsymman.2019.11.014. Epub ...        \n",
       "value                                               None  None  \n",
       "\n",
       "[2 rows x 834 columns]"
      ]
     },
     "execution_count": 15,
     "metadata": {},
     "output_type": "execute_result"
    }
   ],
   "source": [
    "df.transpose()\n"
   ]
  },
  {
   "cell_type": "code",
   "execution_count": 26,
   "metadata": {},
   "outputs": [
    {
     "ename": "AttributeError",
     "evalue": "'DataFrame' object has no attribute 'rows'",
     "output_type": "error",
     "traceback": [
      "\u001b[0;31m---------------------------------------------------------------------------\u001b[0m",
      "\u001b[0;31mAttributeError\u001b[0m                            Traceback (most recent call last)",
      "\u001b[0;32m<ipython-input-26-7542cad781ee>\u001b[0m in \u001b[0;36m<module>\u001b[0;34m\u001b[0m\n\u001b[0;32m----> 1\u001b[0;31m \u001b[0mdf\u001b[0m \u001b[0;34m=\u001b[0m \u001b[0mdf\u001b[0m\u001b[0;34m[\u001b[0m\u001b[0;34m~\u001b[0m\u001b[0mdf\u001b[0m\u001b[0;34m.\u001b[0m\u001b[0mrows\u001b[0m\u001b[0;34m[\u001b[0m\u001b[0;36m0\u001b[0m\u001b[0;34m:\u001b[0m\u001b[0;34m]\u001b[0m\u001b[0;34m.\u001b[0m\u001b[0mstr\u001b[0m\u001b[0;34m.\u001b[0m\u001b[0mcontains\u001b[0m\u001b[0;34m(\u001b[0m\u001b[0;34m'PMID'\u001b[0m\u001b[0;34m)\u001b[0m\u001b[0;34m]\u001b[0m\u001b[0;34m.\u001b[0m\u001b[0mreset_index\u001b[0m\u001b[0;34m(\u001b[0m\u001b[0mdrop\u001b[0m\u001b[0;34m=\u001b[0m\u001b[0;32mTrue\u001b[0m\u001b[0;34m)\u001b[0m\u001b[0;34m\u001b[0m\u001b[0;34m\u001b[0m\u001b[0m\n\u001b[0m",
      "\u001b[0;32m~/opt/anaconda3/lib/python3.8/site-packages/pandas/core/generic.py\u001b[0m in \u001b[0;36m__getattr__\u001b[0;34m(self, name)\u001b[0m\n\u001b[1;32m   5137\u001b[0m             \u001b[0;32mif\u001b[0m \u001b[0mself\u001b[0m\u001b[0;34m.\u001b[0m\u001b[0m_info_axis\u001b[0m\u001b[0;34m.\u001b[0m\u001b[0m_can_hold_identifiers_and_holds_name\u001b[0m\u001b[0;34m(\u001b[0m\u001b[0mname\u001b[0m\u001b[0;34m)\u001b[0m\u001b[0;34m:\u001b[0m\u001b[0;34m\u001b[0m\u001b[0;34m\u001b[0m\u001b[0m\n\u001b[1;32m   5138\u001b[0m                 \u001b[0;32mreturn\u001b[0m \u001b[0mself\u001b[0m\u001b[0;34m[\u001b[0m\u001b[0mname\u001b[0m\u001b[0;34m]\u001b[0m\u001b[0;34m\u001b[0m\u001b[0;34m\u001b[0m\u001b[0m\n\u001b[0;32m-> 5139\u001b[0;31m             \u001b[0;32mreturn\u001b[0m \u001b[0mobject\u001b[0m\u001b[0;34m.\u001b[0m\u001b[0m__getattribute__\u001b[0m\u001b[0;34m(\u001b[0m\u001b[0mself\u001b[0m\u001b[0;34m,\u001b[0m \u001b[0mname\u001b[0m\u001b[0;34m)\u001b[0m\u001b[0;34m\u001b[0m\u001b[0;34m\u001b[0m\u001b[0m\n\u001b[0m\u001b[1;32m   5140\u001b[0m \u001b[0;34m\u001b[0m\u001b[0m\n\u001b[1;32m   5141\u001b[0m     \u001b[0;32mdef\u001b[0m \u001b[0m__setattr__\u001b[0m\u001b[0;34m(\u001b[0m\u001b[0mself\u001b[0m\u001b[0;34m,\u001b[0m \u001b[0mname\u001b[0m\u001b[0;34m:\u001b[0m \u001b[0mstr\u001b[0m\u001b[0;34m,\u001b[0m \u001b[0mvalue\u001b[0m\u001b[0;34m)\u001b[0m \u001b[0;34m->\u001b[0m \u001b[0;32mNone\u001b[0m\u001b[0;34m:\u001b[0m\u001b[0;34m\u001b[0m\u001b[0;34m\u001b[0m\u001b[0m\n",
      "\u001b[0;31mAttributeError\u001b[0m: 'DataFrame' object has no attribute 'rows'"
     ]
    }
   ],
   "source": [
    "df = df[~df.rows[0:].str.contains('PMID')].reset_index(drop=True)"
   ]
  },
  {
   "cell_type": "code",
   "execution_count": null,
   "metadata": {},
   "outputs": [],
   "source": [
    "#publications_list = pd.read_csv('csv-P30AG04428-set.csv')\n",
    "#publications_list"
   ]
  },
  {
   "cell_type": "code",
   "execution_count": null,
   "metadata": {},
   "outputs": [],
   "source": [
    "dataframe = pd.DataFrame(publications_list)"
   ]
  },
  {
   "cell_type": "code",
   "execution_count": null,
   "metadata": {},
   "outputs": [],
   "source": [
    "dataframe"
   ]
  },
  {
   "cell_type": "code",
   "execution_count": null,
   "metadata": {},
   "outputs": [],
   "source": [
    "df = pd.DataFrame(publications_list, columns=['PMID', 'PMCID', 'Publication_Year', \"Journal\"])"
   ]
  },
  {
   "cell_type": "code",
   "execution_count": null,
   "metadata": {},
   "outputs": [],
   "source": [
    "df.columns"
   ]
  },
  {
   "cell_type": "code",
   "execution_count": null,
   "metadata": {},
   "outputs": [],
   "source": [
    "import numpy as np\n",
    "import matplotlib.pyplot as plt\n"
   ]
  },
  {
   "cell_type": "code",
   "execution_count": null,
   "metadata": {},
   "outputs": [],
   "source": [
    "x = dataframe.Publication_Year\n",
    "y = dataframe.Journal"
   ]
  },
  {
   "cell_type": "code",
   "execution_count": null,
   "metadata": {},
   "outputs": [],
   "source": [
    "plt.scatter(x, y)\n",
    "plt.title('Journals We Published To Over the Years')"
   ]
  },
  {
   "cell_type": "code",
   "execution_count": null,
   "metadata": {},
   "outputs": [],
   "source": [
    "plt.hist(y)\n",
    "plt.title('Journals Histogram')"
   ]
  },
  {
   "cell_type": "code",
   "execution_count": null,
   "metadata": {},
   "outputs": [],
   "source": [
    "plt.bar(x, height=y)\n",
    "plt.title('Journals over the Years')"
   ]
  },
  {
   "cell_type": "code",
   "execution_count": null,
   "metadata": {},
   "outputs": [],
   "source": [
    "x = dataframe.Publication_Year\n",
    "z = dataframe.First_Author\n",
    "\n",
    "plt.scatter(x, z)\n",
    "plt.title('First Authors Who Published To Over the Years')"
   ]
  },
  {
   "cell_type": "code",
   "execution_count": null,
   "metadata": {},
   "outputs": [],
   "source": [
    "x = dataframe.Publication_Year\n",
    "t = dataframe.Title\n",
    "\n",
    "plt.scatter(x, t)\n",
    "plt.title('Articles Published To Over the Years')"
   ]
  },
  {
   "cell_type": "code",
   "execution_count": null,
   "metadata": {},
   "outputs": [],
   "source": []
  }
 ],
 "metadata": {
  "kernelspec": {
   "display_name": "Python 3",
   "language": "python",
   "name": "python3"
  },
  "language_info": {
   "codemirror_mode": {
    "name": "ipython",
    "version": 3
   },
   "file_extension": ".py",
   "mimetype": "text/x-python",
   "name": "python",
   "nbconvert_exporter": "python",
   "pygments_lexer": "ipython3",
   "version": "3.8.5"
  }
 },
 "nbformat": 4,
 "nbformat_minor": 4
}
