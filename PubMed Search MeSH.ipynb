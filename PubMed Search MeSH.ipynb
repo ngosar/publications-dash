{
 "cells": [
  {
   "cell_type": "code",
   "execution_count": 1,
   "metadata": {},
   "outputs": [],
   "source": [
    "# requires installing Biopython (using pip) to be able to ping PubMed\n",
    "#MEDLINE data element fields: https://www.nlm.nih.gov/bsd/mms/medlineelements.html\n"
   ]
  },
  {
   "cell_type": "code",
   "execution_count": 2,
   "metadata": {},
   "outputs": [],
   "source": [
    "from Bio import Entrez #to tap into PubMed database\n",
    "import re #for text searching\n",
    "import pandas as pd #to export PMID's or PubMed Queries if needed"
   ]
  },
  {
   "cell_type": "code",
   "execution_count": 3,
   "metadata": {},
   "outputs": [],
   "source": [
    "Entrez.email = \"sarah.ngo@ucsf.edu\" #to let NLM know who I am"
   ]
  },
  {
   "cell_type": "code",
   "execution_count": null,
   "metadata": {},
   "outputs": [
    {
     "name": "stdout",
     "output_type": "stream",
     "text": [
      "what do you want to search for?aging [mesh] p30\n"
     ]
    }
   ],
   "source": [
    "def get_links_term(term):\n",
    "    links = Entrez.esearch(db=\"pubmed\", retmax = 1000, term=term)\n",
    "    record = Entrez.read(links)\n",
    "    link_list = record['IdList']\n",
    "    \n",
    "    return link_list\n",
    "    \n",
    "\n",
    "def get_medline(pubmed_list):\n",
    "    handle = Entrez.efetch(db='pubmed',id=pubmed_list, retmode='text', rettype='medline')\n",
    "    return handle.read()\n",
    "\n",
    "\n",
    "def get_mesh_terms(link_list):\n",
    "    record = Entrez.efetch(db=\"pubmed\", retmax = 1000, term=term)\n",
    "    \n",
    "\n",
    "query = input(\"what do you want to search for?\")\n",
    "\n",
    "\n",
    "#links_term = get_links_term(query)\n",
    "pubmed_record = get_links_term(query)\n",
    "\n",
    "pubmed_dict = {}\n",
    "for record in pubmed_record:\n",
    "    medline_record = get_medline(record)\n",
    "\n",
    "    #cleaning the medline record\n",
    "    refined_text = medline_record.split('\\n')\n",
    "\n",
    "    # using re + search() to search within string for substring  \n",
    "    mesh = \"MH \"\n",
    "    mesh_terms = [line.replace(mesh,'') for line in refined_text if re.search(mesh, line)] \n",
    "    pubmed_dict[record] = mesh_terms\n",
    "    \n",
    "\n",
    "    \n"
   ]
  },
  {
   "cell_type": "code",
   "execution_count": null,
   "metadata": {},
   "outputs": [],
   "source": [
    "pubmed_dict"
   ]
  },
  {
   "cell_type": "code",
   "execution_count": null,
   "metadata": {},
   "outputs": [],
   "source": [
    "df = pd.DataFrame.from_dict(pubmed_dict, orient='index')\n",
    "df = df.transpose()\n",
    "df\n",
    "#df = pd.DataFrame(pubmed_dict)\n",
    "#df.to_csv('pubmedtest.csv', index=False)"
   ]
  },
  {
   "cell_type": "code",
   "execution_count": null,
   "metadata": {},
   "outputs": [],
   "source": []
  },
  {
   "cell_type": "code",
   "execution_count": null,
   "metadata": {},
   "outputs": [],
   "source": [
    "\n",
    "      "
   ]
  },
  {
   "cell_type": "code",
   "execution_count": null,
   "metadata": {},
   "outputs": [],
   "source": []
  },
  {
   "cell_type": "code",
   "execution_count": null,
   "metadata": {},
   "outputs": [],
   "source": []
  },
  {
   "cell_type": "code",
   "execution_count": null,
   "metadata": {},
   "outputs": [],
   "source": [
    "\n",
    "#df.to_csv('pubmedtest.csv', index=False)"
   ]
  }
 ],
 "metadata": {
  "kernelspec": {
   "display_name": "Python 3",
   "language": "python",
   "name": "python3"
  },
  "language_info": {
   "codemirror_mode": {
    "name": "ipython",
    "version": 3
   },
   "file_extension": ".py",
   "mimetype": "text/x-python",
   "name": "python",
   "nbconvert_exporter": "python",
   "pygments_lexer": "ipython3",
   "version": "3.8.5"
  }
 },
 "nbformat": 4,
 "nbformat_minor": 4
}
