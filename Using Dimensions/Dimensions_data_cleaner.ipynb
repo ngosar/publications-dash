{
 "cells": [
  {
   "cell_type": "markdown",
   "metadata": {},
   "source": [
    "# Dimensions Data Cleaner\n",
    "Python script to intake data extracts from Dimensions database saved as .csv files, clean data for EDA, data visualization"
   ]
  },
  {
   "cell_type": "code",
   "execution_count": null,
   "metadata": {},
   "outputs": [],
   "source": [
    "#prompts to select multiple data file saved as csv, concatonates all data into dataframe df\n",
    "import pandas as pd\n",
    "import tkinter as tk\n",
    "from tkinter import filedialog\n",
    "\n",
    "\n",
    "def create_dataframe_from_files():\n",
    "    # Create a Tkinter window\n",
    "    root = tk.Tk()\n",
    "    root.withdraw()  # Hide the main window\n",
    "\n",
    "    # Prompt the user to select multiple files\n",
    "    file_paths = filedialog.askopenfilenames(title=\"Select files\", filetypes=((\"CSV files\", \"*.csv\"), (\"All files\", \"*.*\")))\n",
    "\n",
    "    if file_paths:\n",
    "        # Initialize an empty list to store DataFrames\n",
    "        dfs = []\n",
    "        for file_path in file_paths:\n",
    "            # Read each file into a DataFrame and append it to the list\n",
    "            df = pd.read_csv(file_path)\n",
    "            dfs.append(df)\n",
    "\n",
    "        # Concatenate all DataFrames in the list into one DataFrame\n",
    "        combined_df = pd.concat(dfs, ignore_index=True)\n",
    "        return combined_df\n",
    "    else:\n",
    "        print(\"No files selected.\")\n",
    "        return None\n",
    "\n",
    "if __name__ == \"__main__\":\n",
    "    # Create a DataFrame from the selected files\n",
    "    df = create_dataframe_from_files()\n",
    "\n",
    "    if df is not None:\n",
    "        print(\"DataFrame created successfully:\")\n",
    "        print(df.head())\n",
    "    else:\n",
    "        print(\"DataFrame creation aborted.\")\n"
   ]
  },
  {
   "cell_type": "code",
   "execution_count": null,
   "metadata": {},
   "outputs": [],
   "source": [
    "#check what columns were imported, then drop them if cells do not hold data\n",
    "for idx, column_name in enumerate(df.columns):\n",
    "    print(f\"Column {idx}: {column_name}\")"
   ]
  },
  {
   "cell_type": "code",
   "execution_count": null,
   "metadata": {},
   "outputs": [],
   "source": [
    "df.drop(columns=df.columns[49:], inplace=True)"
   ]
  },
  {
   "cell_type": "code",
   "execution_count": null,
   "metadata": {},
   "outputs": [],
   "source": [
    "df.head()"
   ]
  },
  {
   "cell_type": "code",
   "execution_count": null,
   "metadata": {},
   "outputs": [],
   "source": [
    "# dropping additional columns I won't need\n",
    "df.columns[[0,2,5,7,8,11,12,13,14,20,21,22,31,38,45,46,47]]"
   ]
  },
  {
   "cell_type": "code",
   "execution_count": null,
   "metadata": {},
   "outputs": [],
   "source": [
    "df.drop(columns=df.columns[[0,2,5,7,8,11,12,13,14,20,21,22,31,38,45,46,47]], inplace=True)"
   ]
  },
  {
   "cell_type": "code",
   "execution_count": null,
   "metadata": {},
   "outputs": [],
   "source": [
    "df.head()"
   ]
  },
  {
   "cell_type": "code",
   "execution_count": null,
   "metadata": {},
   "outputs": [],
   "source": [
    "# find rows that contain Publication ID (this assumes rows that do not have a Publication ID do not have data)\n",
    "import re\n",
    "\n",
    "# Define the pattern\n",
    "pattern = r'^pub\\.\\d+$'  # This pattern matches IDs like publication ID\n",
    "\n",
    "# Filter rows based on the pattern in Publication ID\n",
    "df = df[df['Publication ID'].str.contains(pattern, na=False, regex=True)]\n",
    "df"
   ]
  },
  {
   "cell_type": "code",
   "execution_count": null,
   "metadata": {},
   "outputs": [],
   "source": [
    "# check datatype to see if need to fix \n",
    "print(\"Data types of each column:\")\n",
    "print(df.dtypes)"
   ]
  },
  {
   "cell_type": "code",
   "execution_count": null,
   "metadata": {},
   "outputs": [],
   "source": [
    "# Convert specific columns from \"object\" to \"string\"\n",
    "columns_to_convert = ['Publication ID', 'PMID', 'PMCID', 'Title', 'Funding', 'Source title', 'MeSH terms', 'Open Access', 'Publication Type', 'Document Type', 'Authors' ]\n",
    "df[columns_to_convert] = df[columns_to_convert].astype(str)\n"
   ]
  },
  {
   "cell_type": "code",
   "execution_count": null,
   "metadata": {},
   "outputs": [],
   "source": [
    "# Output DataFrame to CSV file\n",
    "# df.to_csv('output.csv', index=False)  # Set index=False to exclude row numbers in the output file\n"
   ]
  },
  {
   "cell_type": "code",
   "execution_count": null,
   "metadata": {},
   "outputs": [],
   "source": []
  },
  {
   "cell_type": "code",
   "execution_count": null,
   "metadata": {},
   "outputs": [],
   "source": [
    "# Convert columns from \"object\" to numeric and fill NaN with 0\n",
    "num_to_convert = ['RCR', 'FCR', 'Altmetric']\n",
    "\n",
    "df[num_to_convert] = df[num_to_convert].astype(float).fillna(0)\n"
   ]
  },
  {
   "cell_type": "code",
   "execution_count": null,
   "metadata": {},
   "outputs": [],
   "source": [
    "# check datatype to see if need to fix \n",
    "print(\"Data types of each column:\")\n",
    "print(df.dtypes)\n"
   ]
  },
  {
   "cell_type": "code",
   "execution_count": null,
   "metadata": {},
   "outputs": [],
   "source": [
    "# Convert object columns to dates with custom format\n",
    "\n",
    "df['Publication date'] = pd.to_datetime(df['Publication date'])\n",
    "df['PubYear'] = pd.to_datetime(df['PubYear'], format = 'YYYY')\n",
    "df['Publication date (online)'] = pd.to_datetime(df['Publication date (online)'])"
   ]
  },
  {
   "cell_type": "code",
   "execution_count": null,
   "metadata": {},
   "outputs": [],
   "source": [
    "df['Publication date (online)'].tail()"
   ]
  },
  {
   "cell_type": "code",
   "execution_count": null,
   "metadata": {},
   "outputs": [],
   "source": [
    "df.to_csv('output.csv', index=False)  # Set index=False to exclude row numbers in the output file\n"
   ]
  }
 ],
 "metadata": {
  "kernelspec": {
   "display_name": "Python 3",
   "language": "python",
   "name": "python3"
  },
  "language_info": {
   "codemirror_mode": {
    "name": "ipython",
    "version": 3
   },
   "file_extension": ".py",
   "mimetype": "text/x-python",
   "name": "python",
   "nbconvert_exporter": "python",
   "pygments_lexer": "ipython3",
   "version": "3.8.5"
  }
 },
 "nbformat": 4,
 "nbformat_minor": 4
}
